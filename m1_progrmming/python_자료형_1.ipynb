{
 "cells": [
  {
   "cell_type": "markdown",
   "id": "d1945162",
   "metadata": {},
   "source": [
    "#### 파이썬 이란\n",
    "- 1990년 암스테르담의 귀도 반 로섬(Guido Van Rossum)이 개발한 인터프리터 언어\n",
    "- 컴퓨터 프로그래밍 교육을 위해 많이 사용하지만, 기업의 실무를 위해서도 많이 사용하는 언어. 구글에서 만든 소프트웨어의 50%이상이 파이썬으로 작성\n",
    "\n",
    "#### 파이썬의 특징\n",
    "- 파이썬은 인간다운 언어이다\n",
    "- 파이썬은 문법이 쉬워 빠르게 배울 수 있다\n",
    "- 파이썬은 무료이지만 강력하다\n",
    "- 파이썬은 간결하다\n",
    "- 파이썬은 프로그래밍을 즐기게 해준다\n",
    "- 파이썬은 개발 속도가 빠르다"
   ]
  },
  {
   "cell_type": "markdown",
   "id": "6c83d43b",
   "metadata": {},
   "source": [
    "#### 파이썬으로 할 수 있는 일\n",
    "- 웹 개발: Django, Flask 등의 프레임워크를 사용하여 웹 애플리케이션을 개발할 수 있습니다.\n",
    "- 데이터 분석: Pandas, NumPy, SciPy와 같은 라이브러리를 사용하여 데이터를 분석하고 처리할 수 있습니다.\n",
    "- 머신 러닝과 인공지능: TensorFlow, PyTorch, Scikit-learn 등의 라이브러리를 활용하여 머신 러닝 모델을 구축하고 훈련시킬 수 있습니다.\n",
    "- 자동화: 파이썬 스크립트를 작성하여 일상적인 작업을 자동화하고, 시스템 관리 작업을 수행할 수 있습니다.\n",
    "- 게임 개발: Pygame과 같은 라이브러리를 사용하여 간단한 게임을 개발할 수 있습니다.\n",
    "- 모바일 애플리케이션 개발: Kivy 또는 BeeWare와 같은 라이브러리를 사용하여 모바일 애플리케이션을 개발할 수 있습니다.\n",
    "- 데스크탑 애플리케이션 개발: PyQt, Tkinter 등의 라이브러리를 활용하여 데스크탑 애플리케이션을 개발할 수 있습니다.\n",
    "- 시스템 스크립팅과 네트워킹: 시스템 유틸리티를 개발하거나 네트워크 프로토콜을 구현할 수 있습니다.\n",
    "- 임베디드 시스템과 하드웨어 제어: 라즈베리 파이와 같은 임베디드 시스템을 제어하고 하드웨어를 프로그래밍할 수 있습니다.\n",
    "- 사이언티픽 컴퓨팅: 과학적 연산과 시뮬레이션을 위해 파이썬을 활용할 수 있습니다.\n",
    "- 교육: 파이썬은 초보자에게 프로그래밍을 가르치는 데 이상적인 언어로 평가받고 있습니다.\n",
    "- 파이썬의 다양한 라이브러리와 프레임워크 덕분에, 이러한 분야에서의 작업이 더욱 쉽고 효율적으로 수행될 수 있습니다.\n",
    "\n",
    "#### 참조\n",
    "- 표현식 : 어떠한 값을 만들어 내는 간단한 코드. 273, 10 + 20 + 30, \"Python Programming\"\n",
    "- 문장 : 표현식이 하나 이상 모이면 문장. print(\"Hello\")\n",
    "- 프로그램 : 문장이 모여서 프로그램\n",
    "- 식별자 : 프로그램밍 언어에서 이름을 붙일 때 사용하는 단어. 주로 변수 또는 함수 이름 등으로 사용\n",
    "- 주석 : 프로그램을 설명하기 위해 사용. # 기호로 주석 처리\n",
    "- 연산자 : 스스로 값이 되는 것이 아니고 값과 값 사이에 무언가 기능을 적용할 때 사용\n",
    "- 자료 : 리터럴이라고 하는데 숫자이든 문자이든 어떠한 값 자체를 의미. 1, 10, \"Hello\"\n",
    "- 키워드 : 파이썬이 만들어질 때 이미 사용하겠다고 예약해 놓는 것. False, None, True, ...\n",
    "- 프로그램밍 언어에서 사용자가 이름을 정할 때 키워드는 사용할 수 없음"
   ]
  },
  {
   "cell_type": "code",
   "execution_count": 1,
   "id": "0cf8d4dc",
   "metadata": {},
   "outputs": [],
   "source": [
    "my_varable = 15 # 변수\n",
    "def my_function(): # 함수\n",
    "    pass\n",
    "class MyClass: # 클래스\n",
    "    pass"
   ]
  },
  {
   "cell_type": "code",
   "execution_count": 2,
   "id": "694d5c08",
   "metadata": {},
   "outputs": [
    {
     "name": "stdout",
     "output_type": "stream",
     "text": [
      "['False', 'None', 'True', 'and', 'as', 'assert', 'async', 'await', 'break', 'class', 'continue', 'def', 'del', 'elif', 'else', 'except', 'finally', 'for', 'from', 'global', 'if', 'import', 'in', 'is', 'lambda', 'nonlocal', 'not', 'or', 'pass', 'raise', 'return', 'try', 'while', 'with', 'yield']\n"
     ]
    },
    {
     "data": {
      "text/plain": [
       "35"
      ]
     },
     "execution_count": 2,
     "metadata": {},
     "output_type": "execute_result"
    }
   ],
   "source": [
    "import keyword\n",
    "print(keyword.kwlist)\n",
    "len(keyword.kwlist)"
   ]
  },
  {
   "cell_type": "markdown",
   "id": "28eb44cd",
   "metadata": {},
   "source": [
    "키워드는 python내에서 사용되는 키이기때문에 사용자가 키워드는 변수명, 함수명으로 지정하면 안된다."
   ]
  },
  {
   "cell_type": "code",
   "execution_count": 3,
   "id": "da301c91",
   "metadata": {},
   "outputs": [
    {
     "name": "stdout",
     "output_type": "stream",
     "text": [
      "Python 3.10.13\n"
     ]
    }
   ],
   "source": [
    "!python --version"
   ]
  },
  {
   "cell_type": "code",
   "execution_count": 4,
   "id": "6005c3ab",
   "metadata": {},
   "outputs": [
    {
     "data": {
      "text/plain": [
       "'D:\\\\KDT\\\\Workspace\\\\m1_programming'"
      ]
     },
     "execution_count": 4,
     "metadata": {},
     "output_type": "execute_result"
    }
   ],
   "source": [
    "# 현재 작업폴더 확인\n",
    "%pwd"
   ]
  },
  {
   "cell_type": "code",
   "execution_count": 5,
   "id": "deaf6c0f",
   "metadata": {},
   "outputs": [
    {
     "name": "stdout",
     "output_type": "stream",
     "text": [
      "30\n",
      "hello\n",
      "world\n",
      "helloworld\n",
      "helloworld\n",
      "helloworld\n",
      "helloworld\n",
      "helloworld\n",
      "helloworld\n",
      "helloworld\n",
      "helloworld\n",
      "helloworld\n",
      "helloworld\n",
      "helloworld\n",
      "helloworld\n",
      "helloworld\n",
      "helloworld\n",
      "helloworld\n",
      "helloworld\n",
      "helloworld\n",
      "helloworld\n",
      "helloworld\n",
      "helloworld\n",
      "helloworld\n",
      "helloworld\n",
      "helloworld\n",
      "helloworld\n",
      "helloworld\n",
      "helloworld\n",
      "helloworld\n",
      "helloworld\n",
      "helloworld\n",
      "helloworld\n",
      "helloworld\n"
     ]
    }
   ],
   "source": [
    "# 표현식\n",
    "a = 10\n",
    "b = 20\n",
    "print(a+b)\n",
    "# 문장\n",
    "c = 'hello'\n",
    "d = 'world'\n",
    "print(c)\n",
    "print(d)\n",
    "print(c+d)\n",
    "# 프로그램\n",
    "def helloworld(a, b, c, d):\n",
    "    for i in range(a+b):\n",
    "        print(c+d)\n",
    "helloworld(a, b, c,d)"
   ]
  },
  {
   "cell_type": "code",
   "execution_count": 6,
   "id": "907519f8",
   "metadata": {},
   "outputs": [],
   "source": [
    "# 문장은 하나 이상의 표현식이 모인 것으로 프로그래밍에서는 실행 가능한 푀소의 독립적인 코드 조각\n",
    "# 파이썬 코드의 한 줄, 또는 블록으로 된 것들을 하나의 문장이라고 할 수 있음.\n",
    "word = 'python' # 하나의 문장\n",
    "a = 100 + 200\n",
    "\n",
    "if a > 500: # 블록을 이루는 하나의 문장\n",
    "    print(word)"
   ]
  },
  {
   "cell_type": "markdown",
   "id": "23cad3c3",
   "metadata": {},
   "source": [
    "식별자 기본규칙\n",
    "- 키워드를 사용하면 안된다.\n",
    "- 특수문자는 언더 바(_)만 사용\n",
    "- 숫자로 시작하면 안된다.\n",
    "- 공백을 포함할 수 없다."
   ]
  },
  {
   "cell_type": "code",
   "execution_count": 7,
   "id": "e913c3d4",
   "metadata": {},
   "outputs": [
    {
     "ename": "SyntaxError",
     "evalue": "invalid decimal literal (3824451701.py, line 5)",
     "output_type": "error",
     "traceback": [
      "\u001b[1;36m  Cell \u001b[1;32mIn[7], line 5\u001b[1;36m\u001b[0m\n\u001b[1;33m    273alpha # 숫자\u001b[0m\n\u001b[1;37m      ^\u001b[0m\n\u001b[1;31mSyntaxError\u001b[0m\u001b[1;31m:\u001b[0m invalid decimal literal\n"
     ]
    }
   ],
   "source": [
    "alpha\n",
    "break # 키워드\n",
    "alpha10\n",
    "_alpha\n",
    "273alpha # 숫자\n",
    "AlpHa\n",
    "ALPHA\n",
    "has space# 공백"
   ]
  },
  {
   "cell_type": "markdown",
   "id": "ddadc213",
   "metadata": {},
   "source": [
    "파이썬은 snake_case와 CamelCase를 모두 사용\n",
    "\n",
    "- itemlist : item_list itemList\n",
    "- loginstatus : login_status loginStatus\n",
    "- 캐멀 케이스(대문자로 시작) 클래스\n",
    "- 스네이크 케이스(소문자로 시작) 뒤에 ()가 있다 - 함수\n",
    "- 스네이크 케이스(소문자로 시작) 뒤에 ()가 없다 - 변수"
   ]
  },
  {
   "cell_type": "code",
   "execution_count": 10,
   "id": "7fcd149d",
   "metadata": {},
   "outputs": [
    {
     "data": {
      "text/plain": [
       "7"
      ]
     },
     "execution_count": 10,
     "metadata": {},
     "output_type": "execute_result"
    }
   ],
   "source": [
    "3 + 4"
   ]
  },
  {
   "cell_type": "code",
   "execution_count": 11,
   "id": "eb17b892",
   "metadata": {},
   "outputs": [
    {
     "name": "stdout",
     "output_type": "stream",
     "text": [
      "7\n"
     ]
    }
   ],
   "source": [
    "a = 3\n",
    "b = 4\n",
    "print(a+b)"
   ]
  },
  {
   "cell_type": "code",
   "execution_count": 12,
   "id": "aa1552ce",
   "metadata": {},
   "outputs": [
    {
     "name": "stdout",
     "output_type": "stream",
     "text": [
      "1\n",
      "1\n",
      "1.3333333333333333\n"
     ]
    }
   ],
   "source": [
    "a = 3\n",
    "b = 4\n",
    "c = b % a\n",
    "d = b // a\n",
    "e = b / a\n",
    "print(c)\n",
    "print(d)\n",
    "print(e)"
   ]
  },
  {
   "cell_type": "code",
   "execution_count": 13,
   "id": "5bbf63cf",
   "metadata": {},
   "outputs": [],
   "source": [
    "a = 3\n",
    "b = 5\n",
    "\n",
    "if a>b:\n",
    "    print(a)"
   ]
  },
  {
   "cell_type": "markdown",
   "id": "857ff784",
   "metadata": {},
   "source": [
    "#### 자료형\n",
    "- 자료형 또는 데이터 타입이란 숫자, 문자 등과 같이 여러 종류의 데이터를 구분하기 위한 분류\n",
    "- 파이썬의 자료형은 크게 숫자(numbers), 시퀀스(sequence), 매핑(mapping) 등으로 나눌 수 있다.\n",
    "- 파이썬의 기본 자료형\n",
    "  - 수치형\n",
    "    - 정수형 : int는 정수(integer)를 나타낸다. 양의 정수와 음의 정수, 숫자 0\n",
    "    - 실수형 : float는 원래 부동소수점수(floating-point number)를 가리키는데, 지금은 단순히 소수점 이하를 표현할 수 있는 수이다.\n",
    "    - 복소수형 : 복소수를 complex로 나타내고 제곱하면 -1이 되는 수 i를 ‘허수(imaginary number)’라고 하는데 허수 i를 j로 표현\n",
    "  - 시퀀스 : 문자열(str), 리스트(list), 튜플(tuple), 사용자 정의 클래스가 시퀀스에 속한다. for 문에서 사용할 수 있는 것들이 바로 시퀀스\n",
    "    - 문자열 : 문자를 한 줄로 표현하며 문자열 인덱스를 이용해 문자열의 일부를 복사\n",
    "    - 리스트 : 대괄호([ ])로 감싸 주고 각 요솟값은 쉼표(,)로 구분\n",
    "    - 튜플 : 튜플은 ( )으로 둘러싸고 각 요솟값은 쉼표(,)로 구분\n",
    "  - 매핑\n",
    "    - 사전 : 딕셔너리(dict)는 키(key)와 값(value)의 짝으로 이뤄지는데 이런 것을 매핑\n",
    "  - 집합 : 집합을 표현하는 세트(set)\n",
    "  - 블린 : 참, 거짓을 표현"
   ]
  },
  {
   "cell_type": "code",
   "execution_count": 14,
   "id": "27cf4c59",
   "metadata": {},
   "outputs": [],
   "source": [
    "# 자료형의 출력"
   ]
  },
  {
   "cell_type": "code",
   "execution_count": 15,
   "id": "1bca3bcd",
   "metadata": {},
   "outputs": [
    {
     "data": {
      "text/plain": [
       "{'a': 1, 'b': 2}"
      ]
     },
     "execution_count": 15,
     "metadata": {},
     "output_type": "execute_result"
    }
   ],
   "source": [
    "# 시퀸스\n",
    "[1,2,3]\n",
    "(1,2,3)\n",
    "{'a':1, 'b':2}"
   ]
  },
  {
   "cell_type": "code",
   "execution_count": 16,
   "id": "3e0cf83c",
   "metadata": {},
   "outputs": [
    {
     "name": "stdout",
     "output_type": "stream",
     "text": [
      "<class 'int'>\n",
      "<class 'float'>\n",
      "1\n",
      "0\n"
     ]
    }
   ],
   "source": [
    "# 정수형, 실수형\n",
    "i1 = 3\n",
    "f1 = 3.5\n",
    "print(type(i1))\n",
    "print(type(f1))\n",
    "print(int(True))\n",
    "print(int(False))"
   ]
  },
  {
   "cell_type": "code",
   "execution_count": 17,
   "id": "1924c882",
   "metadata": {},
   "outputs": [
    {
     "name": "stdout",
     "output_type": "stream",
     "text": [
      "6\n",
      "2\n",
      "8\n",
      "2.0\n",
      "2\n",
      "0\n",
      "16\n"
     ]
    }
   ],
   "source": [
    "# 사칙연산 : +, -, *, /, //(나눈값), **(제곱), %(나머지)\n",
    "a = 4\n",
    "b = 2\n",
    "print(a + b)\n",
    "print(a - b)\n",
    "print(a * b)\n",
    "print(a / b)\n",
    "print(a // b) \n",
    "print(a % b)\n",
    "print(a**b)"
   ]
  },
  {
   "cell_type": "code",
   "execution_count": 18,
   "id": "3ba68be0",
   "metadata": {},
   "outputs": [
    {
     "name": "stdout",
     "output_type": "stream",
     "text": [
      "문자열\n",
      "100\n",
      "100문자열\n",
      "10050\n"
     ]
    }
   ],
   "source": [
    "# 문자열\n",
    "string = '문자열'\n",
    "a = '100'\n",
    "c = 100\n",
    "d = 50\n",
    "print(string)\n",
    "print(a)\n",
    "print(a+string)\n",
    "print(str(c)+str(d))"
   ]
  },
  {
   "cell_type": "code",
   "execution_count": 19,
   "id": "c1263791",
   "metadata": {},
   "outputs": [
    {
     "name": "stdout",
     "output_type": "stream",
     "text": [
      "인사말을 입력하세요\n"
     ]
    },
    {
     "data": {
      "text/plain": [
       "''"
      ]
     },
     "execution_count": 19,
     "metadata": {},
     "output_type": "execute_result"
    }
   ],
   "source": [
    "# 사용자 입력\n",
    "input('인사말을 입력하세요')"
   ]
  },
  {
   "cell_type": "code",
   "execution_count": 20,
   "id": "bc0ad753",
   "metadata": {},
   "outputs": [
    {
     "name": "stdout",
     "output_type": "stream",
     "text": [
      "\n"
     ]
    },
    {
     "ename": "ValueError",
     "evalue": "invalid literal for int() with base 10: ''",
     "output_type": "error",
     "traceback": [
      "\u001b[1;31m---------------------------------------------------------------------------\u001b[0m",
      "\u001b[1;31mValueError\u001b[0m                                Traceback (most recent call last)",
      "Cell \u001b[1;32mIn[20], line 2\u001b[0m\n\u001b[0;32m      1\u001b[0m \u001b[38;5;66;03m# input함수는 string으로 입력받은 데이터를 처리한다.\u001b[39;00m\n\u001b[1;32m----> 2\u001b[0m a \u001b[38;5;241m=\u001b[39m \u001b[38;5;28;43mint\u001b[39;49m\u001b[43m(\u001b[49m\u001b[38;5;28;43minput\u001b[39;49m\u001b[43m(\u001b[49m\u001b[43m)\u001b[49m\u001b[43m)\u001b[49m\n\u001b[0;32m      3\u001b[0m b \u001b[38;5;241m=\u001b[39m \u001b[38;5;28mint\u001b[39m(\u001b[38;5;28minput\u001b[39m())\n\u001b[0;32m      4\u001b[0m \u001b[38;5;28mprint\u001b[39m(a\u001b[38;5;241m+\u001b[39mb)\n",
      "\u001b[1;31mValueError\u001b[0m: invalid literal for int() with base 10: ''"
     ]
    }
   ],
   "source": [
    "# input함수는 string으로 입력받은 데이터를 처리한다.\n",
    "a = int(input())\n",
    "b = int(input())\n",
    "print(a+b)"
   ]
  },
  {
   "cell_type": "code",
   "execution_count": null,
   "id": "6dfdb593",
   "metadata": {},
   "outputs": [],
   "source": [
    "a = float(input('3입력'))\n",
    "b = float(input('3.3입력'))\n",
    "print(a+b)"
   ]
  },
  {
   "cell_type": "code",
   "execution_count": null,
   "id": "83873167",
   "metadata": {},
   "outputs": [],
   "source": [
    "a = 52\n",
    "b = 52.273\n",
    "print(str(a)+str(b))"
   ]
  },
  {
   "cell_type": "code",
   "execution_count": null,
   "id": "c2ee1122",
   "metadata": {},
   "outputs": [],
   "source": [
    "# 문자열 : \"\", '', '''''', \"\"\"\"\"\"\n",
    "p1 = \"python 's value is great\"\n",
    "print(p1)"
   ]
  },
  {
   "cell_type": "code",
   "execution_count": null,
   "id": "a1b9beb1",
   "metadata": {},
   "outputs": [],
   "source": [
    "p1 = 'python \\'s value is great'\n",
    "print(p1)"
   ]
  },
  {
   "cell_type": "code",
   "execution_count": null,
   "id": "b49361b2",
   "metadata": {},
   "outputs": [],
   "source": [
    "# 행바꿈\n",
    "y1 = \"Once you study data analysis\\nYou need Python\"\n",
    "print(y1)"
   ]
  },
  {
   "cell_type": "code",
   "execution_count": 21,
   "id": "e95775f8",
   "metadata": {},
   "outputs": [
    {
     "name": "stdout",
     "output_type": "stream",
     "text": [
      "\n",
      "Once you study data analysis \n",
      "You need Python \n",
      "\n"
     ]
    }
   ],
   "source": [
    "y2 =\"\"\"\n",
    "Once you study data analysis \n",
    "You need Python \n",
    "\"\"\"\n",
    "print(y2)"
   ]
  },
  {
   "cell_type": "code",
   "execution_count": 22,
   "id": "7af9b6f7",
   "metadata": {},
   "outputs": [
    {
     "name": "stdout",
     "output_type": "stream",
     "text": [
      "Python is easy to learn\n",
      "=========================\n"
     ]
    }
   ],
   "source": [
    "a1 = 'Python '\n",
    "a2 = 'is easy to learn'\n",
    "print(a1+a2)\n",
    "print(\"=\"*25)"
   ]
  },
  {
   "cell_type": "code",
   "execution_count": 23,
   "id": "37c22035",
   "metadata": {},
   "outputs": [],
   "source": [
    "# 다른타입과 계산\n"
   ]
  },
  {
   "cell_type": "code",
   "execution_count": 24,
   "id": "6cbd2c5a",
   "metadata": {},
   "outputs": [
    {
     "name": "stdout",
     "output_type": "stream",
     "text": [
      "정수를 입력\n"
     ]
    },
    {
     "ename": "ValueError",
     "evalue": "invalid literal for int() with base 10: ''",
     "output_type": "error",
     "traceback": [
      "\u001b[1;31m---------------------------------------------------------------------------\u001b[0m",
      "\u001b[1;31mValueError\u001b[0m                                Traceback (most recent call last)",
      "Cell \u001b[1;32mIn[24], line 2\u001b[0m\n\u001b[0;32m      1\u001b[0m \u001b[38;5;66;03m# 과제1. 다른 타입의 숫자 2개를 입력받아 큰 수를 출력하세요.\u001b[39;00m\n\u001b[1;32m----> 2\u001b[0m a \u001b[38;5;241m=\u001b[39m \u001b[38;5;28;43mint\u001b[39;49m\u001b[43m(\u001b[49m\u001b[38;5;28;43minput\u001b[39;49m\u001b[43m(\u001b[49m\u001b[38;5;124;43m'\u001b[39;49m\u001b[38;5;124;43m정수를 입력\u001b[39;49m\u001b[38;5;124;43m'\u001b[39;49m\u001b[43m)\u001b[49m\u001b[43m)\u001b[49m\n\u001b[0;32m      3\u001b[0m b \u001b[38;5;241m=\u001b[39m \u001b[38;5;28mfloat\u001b[39m(\u001b[38;5;28minput\u001b[39m(\u001b[38;5;124m'\u001b[39m\u001b[38;5;124m실수를 입력\u001b[39m\u001b[38;5;124m'\u001b[39m))\n\u001b[0;32m      4\u001b[0m \u001b[38;5;28;01mif\u001b[39;00m a \u001b[38;5;241m>\u001b[39m b:\n",
      "\u001b[1;31mValueError\u001b[0m: invalid literal for int() with base 10: ''"
     ]
    }
   ],
   "source": [
    "# 과제1. 다른 타입의 숫자 2개를 입력받아 큰 수를 출력하세요.\n",
    "a = int(input('정수를 입력'))\n",
    "b = float(input('실수를 입력'))\n",
    "if a > b:\n",
    "    print(a)\n",
    "else:\n",
    "    print(b)"
   ]
  },
  {
   "cell_type": "code",
   "execution_count": 25,
   "id": "3f612062",
   "metadata": {},
   "outputs": [
    {
     "name": "stdout",
     "output_type": "stream",
     "text": [
      "\n",
      "\"What a wonderful world!\"\n",
      "he said loudly\n",
      "\n"
     ]
    },
    {
     "data": {
      "text/plain": [
       "'\\n[출력문]\\n\"What a wonderful world!\"\\nhe said loudly\\n'"
      ]
     },
     "execution_count": 25,
     "metadata": {},
     "output_type": "execute_result"
    }
   ],
   "source": [
    "# 과제2. 아래와 같이 출력할 수 있는 string을 만드세요.\n",
    "string = '''\n",
    "\"What a wonderful world!\"\n",
    "he said loudly\n",
    "'''\n",
    "print(string)\n",
    "'''\n",
    "[출력문]\n",
    "\"What a wonderful world!\"\n",
    "he said loudly\n",
    "'''"
   ]
  },
  {
   "cell_type": "code",
   "execution_count": 26,
   "id": "7b1cd898",
   "metadata": {},
   "outputs": [
    {
     "name": "stdout",
     "output_type": "stream",
     "text": [
      "[1, 2, 3, 4, 5]\n",
      "['a', 'b', 'c']\n",
      "[1, 'a', 'abc', [1, 2, 3, 4, 5], ['a', 'b', 'c']]\n"
     ]
    }
   ],
   "source": [
    "# 자료형 - List\n",
    "# 리스트는 []로 표시하며 []안의 요소를 콤마로 굽누하여 순서있게 나열\n",
    "list1 = [1,2,3,4,5]\n",
    "list2 = ['a', 'b','c']\n",
    "list3 = [1, 'a', 'abc', [1,2,3,4,5], ['a','b','c']]\n",
    "print(list1)\n",
    "print(list2)\n",
    "print(list3)"
   ]
  },
  {
   "cell_type": "code",
   "execution_count": 27,
   "id": "824c35eb",
   "metadata": {},
   "outputs": [
    {
     "data": {
      "text/plain": [
       "[1, 2, 3, 4]"
      ]
     },
     "execution_count": 27,
     "metadata": {},
     "output_type": "execute_result"
    }
   ],
   "source": [
    "# 인덱싱\n",
    "list1 = [1,2,3,4,5]\n",
    "list1[2]\n",
    "list1[0:2]\n",
    "list1[0:-1]\n",
    "list1[0: 4]\n",
    "list1[:4]\n",
    "list1[:-1]"
   ]
  },
  {
   "cell_type": "code",
   "execution_count": 28,
   "id": "ad75fed9",
   "metadata": {},
   "outputs": [
    {
     "data": {
      "text/plain": [
       "'b'"
      ]
     },
     "execution_count": 28,
     "metadata": {},
     "output_type": "execute_result"
    }
   ],
   "source": [
    "list3 = [1, 'a', 'abc', [1,2,3,4,5], ['a','b','c']]\n",
    "list3[1]\n",
    "list3[3]\n",
    "list3[3][2]\n",
    "list3[4][1]"
   ]
  },
  {
   "cell_type": "code",
   "execution_count": 29,
   "id": "4d2fae47",
   "metadata": {},
   "outputs": [
    {
     "name": "stdout",
     "output_type": "stream",
     "text": [
      "[1, 1, 2, 3, 4, 5, 6, 7, 8, 9]\n",
      "['a', 'a', 'c']\n",
      "[1, 2, 3, 4, 5, 6, 7, 8, 9]\n",
      "['a', 'c']\n"
     ]
    }
   ],
   "source": [
    "# 리스트 수정, 삭제\n",
    "a = [0,1,2,3,4,5,6,7,8,9]\n",
    "b = ['a', 'b', 'c']\n",
    "a[0] = 1\n",
    "print(a)\n",
    "b[1] = 'a'\n",
    "print(b)\n",
    "del a[0]\n",
    "print(a)\n",
    "del b[1]\n",
    "print(b)"
   ]
  },
  {
   "cell_type": "code",
   "execution_count": 30,
   "id": "8abc6f42",
   "metadata": {},
   "outputs": [
    {
     "data": {
      "text/plain": [
       "[6, 7, 8, 9]"
      ]
     },
     "execution_count": 30,
     "metadata": {},
     "output_type": "execute_result"
    }
   ],
   "source": [
    "a = [0,1,2,3,4,5,6,7,8,9]\n",
    "b = ['a', 'b', 'c']\n",
    "a[-2]\n",
    "a[-4:-1]\n",
    "a[-4:]"
   ]
  },
  {
   "cell_type": "code",
   "execution_count": 31,
   "id": "d2931df3",
   "metadata": {},
   "outputs": [
    {
     "name": "stdout",
     "output_type": "stream",
     "text": [
      "[1, 2, 3, 4, 5]\n",
      "[1, 2, 3, 4, 5, 6]\n",
      "[5, 1, 2, 3, 4, 5, 6]\n",
      "[5, 1, 2, 3, 4, 5, 6, 7]\n"
     ]
    }
   ],
   "source": [
    "# 리스트 확장\n",
    "h = [1,2,3]\n",
    "h.extend([4,5])\n",
    "print(h)\n",
    "h.append(6)\n",
    "print(h)\n",
    "h.insert(0,5)\n",
    "print(h)\n",
    "h.insert(7,7)\n",
    "print(h)\n"
   ]
  },
  {
   "cell_type": "markdown",
   "id": "43397c79",
   "metadata": {},
   "source": [
    "[과제3] list1에서 다음을 수행하세요\n",
    "- 33을 출력\n",
    "- 82를 리스트에 추가\n",
    "- 87의 인덱스 구하기\n",
    "- 인덱스 3에서 10까지의 값을 출력하고 list2에 저장한 후 내림차순 정렬하기 - 도전\n",
    "- 39를 11로 변경\n",
    "- [69,45,58] 출력\n",
    "- 짝수 인덱스의 값으로 구성된 리스트 출력하기\n",
    "- 인덱스가 가장 큰수를 삭제하기\n",
    "- 인덱스 3, 5인 값으로 4칙 연산하기\n",
    "\n",
    "list1 = [58, 45, 69, 19,  4, 87, 29, 13, 39, 15, 54, [8, 33, 11], 27, 49, 63, 98, 22, 82]"
   ]
  },
  {
   "cell_type": "code",
   "execution_count": 32,
   "id": "de3ac6de",
   "metadata": {},
   "outputs": [
    {
     "name": "stdout",
     "output_type": "stream",
     "text": [
      "1번 답: 33\n",
      "2번 답: [58, 45, 69, 19, 4, 87, 29, 13, 39, 15, 54, [8, 33, 11], 27, 49, 63, 98, 22, 82, 82]\n",
      "3번 답: 5\n",
      "4번. 3에서 10까지의 값을 출력 :[19, 4, 87, 29, 13, 39, 15, 54]\n",
      "4번 풀이 후: [87, 54, 39, 29, 19, 15, 13, 4]\n",
      "5번 풀이 전: [58, 45, 69, 19, 4, 87, 29, 13, 39, 15, 54, [8, 33, 11], 27, 49, 63, 98, 22, 82]\n",
      "5번 풀이 후: [58, 45, 69, 19, 4, 87, 29, 13, 11, 15, 54, [8, 33, 11], 27, 49, 63, 98, 22, 82]\n",
      "6번째 답: [69, 45, 58]\n",
      "7번째 답: [58, 4, 54, 8, 98, 22]\n",
      "8번 인덱스가 가장 큰수 : 82\n",
      "8번 답: [58, 45, 69, 19, 4, 87, 29, 13, 39, 15, 54, [8, 33, 11], 27, 49, 63, 98, 22]\n",
      "9번 인덱스 3인 값: 19\n",
      "9번 인덱스 5인 값: 87\n",
      "9번 더하기: 106\n",
      "9번 빼기 : -68\n",
      "9번 곱하기 : 1653\n",
      "9번 나누기 : 0.21839080459770116\n",
      "9번 나눈값: 0\n",
      "9번 나눈 나머지: 19\n",
      "9번 제곱값: 1784692024660069843400588950089820848205359612815447007430736376271289420707549395931423768497105136108949665339\n"
     ]
    }
   ],
   "source": [
    "list1 = [58, 45, 69, 19, 4, 87, 29, 13, 39, 15, 54, [8, 33, 11], 27, 49, 63, 98, 22, 82]\n",
    "# 리스트 초기화를 통해 혼란을 없앴습니다.\n",
    "\n",
    "\n",
    "# 1번 풀이\n",
    "list1 = [58, 45, 69, 19, 4, 87, 29, 13, 39, 15, 54, [8, 33, 11], 27, 49, 63, 98, 22, 82]\n",
    "print(f'1번 답: {list1[-7][1]}')\n",
    "\n",
    "# 2번 풀이\n",
    "list1 = [58, 45, 69, 19, 4, 87, 29, 13, 39, 15, 54, [8, 33, 11], 27, 49, 63, 98, 22, 82]\n",
    "list1.append(82)\n",
    "print(f'2번 답: {list1}')\n",
    "\n",
    "# 3번 풀이\n",
    "list1 = [58, 45, 69, 19, 4, 87, 29, 13, 39, 15, 54, [8, 33, 11], 27, 49, 63, 98, 22, 82]\n",
    "for i in range(len(list1)-1):\n",
    "    if list1[i] == 87:\n",
    "        print(f'3번 답: {i}')\n",
    "\n",
    "# 4번 풀이\n",
    "list1 = [58, 45, 69, 19, 4, 87, 29, 13, 39, 15, 54, [8, 33, 11], 27, 49, 63, 98, 22, 82]\n",
    "print(f'4번. 3에서 10까지의 값을 출력 :{list1[3:11]}')\n",
    "list2 = []\n",
    "list2.extend(list1[3:11])\n",
    "list2.sort(reverse=True)\n",
    "print(f'4번 풀이 후: {list2}')\n",
    "\n",
    "\n",
    "# 5번 풀이\n",
    "list1 = [58, 45, 69, 19, 4, 87, 29, 13, 39, 15, 54, [8, 33, 11], 27, 49, 63, 98, 22, 82]\n",
    "print(f'5번 풀이 전: {list1}')\n",
    "list1[8] = 11\n",
    "print(f'5번 풀이 후: {list1}')\n",
    "\n",
    "# 6번 풀이\n",
    "print(f'6번째 답: {[list1[2], list1[1], list1[0]]}')\n",
    "\n",
    "# 7번 풀이\n",
    "list1 = [58, 45, 69, 19, 4, 87, 29, 13, 39, 15, 54, [8, 33, 11], 27, 49, 63, 98, 22, 82]\n",
    "answer = []\n",
    "for i in range(len(list1)-1):\n",
    "    if type(list1[i]) == int:\n",
    "        if list1[i] % 2 == 0:\n",
    "            answer.append(list1[i])\n",
    "    else:\n",
    "        for j in list1[i]:\n",
    "            if j % 2 == 0:\n",
    "                answer.append(j)\n",
    "print(f'7번째 답: {answer}')\n",
    "\n",
    "# 8번 풀이\n",
    "list1 = [58, 45, 69, 19, 4, 87, 29, 13, 39, 15, 54, [8, 33, 11], 27, 49, 63, 98, 22, 82]\n",
    "print(f'8번 인덱스가 가장 큰수 : {list1[len(list1)-1]}')\n",
    "del list1[len(list1)-1]\n",
    "print(f'8번 답: {list1}')\n",
    "\n",
    "# 9번 풀이\n",
    "a = list1[3]\n",
    "b = list1[5]\n",
    "print(f'9번 인덱스 3인 값: {a}')\n",
    "print(f'9번 인덱스 5인 값: {b}')\n",
    "print(f'9번 더하기: {a+b}')\n",
    "print(f'9번 빼기 : {a-b}')\n",
    "print(f'9번 곱하기 : {a*b}')\n",
    "print(f'9번 나누기 : {a/b}')\n",
    "print(f'9번 나눈값: {a//b}')\n",
    "print(f'9번 나눈 나머지: {a%b}')\n",
    "print(f'9번 제곱값: {a**b}')"
   ]
  },
  {
   "cell_type": "markdown",
   "id": "da90e599",
   "metadata": {},
   "source": [
    "#### sort 와 sorted 차이점\n",
    "\n",
    "1. 메서드 vs 함수:\n",
    "- sort(): 리스트 객체의 내장 메서드입니다. 즉, 리스트에서만 사용할 수 있습니다.\n",
    "- sorted(): 내장 함수로, 어떤 반복 가능한(iterable) 객체에도 사용될 수 있습니다. 예를 들면 리스트, 튜플, 딕셔너리, 문자열 등에 사용할 수 있습니다.\n",
    "\n",
    "2. 반환 값:\n",
    "- sort(): 리스트를 원 위치에서(in-place) 정렬하고 None을 반환합니다. 따라서 원래의 리스트 자체가 변경됩니다.\n",
    "- sorted(): 정렬된 새로운 리스트를 반환합니다. 원래의 객체는 변경되지 않습니다.\n",
    "\n",
    "3. 유용성:\n",
    "- sort(): 리스트에서만 작동하기 때문에 리스트만 정렬할 수 있습니다.\n",
    "- sorted(): 다양한 객체를 정렬할 수 있으며 결과는 항상 리스트로 반환됩니다."
   ]
  },
  {
   "cell_type": "code",
   "execution_count": 33,
   "id": "0fc39b72",
   "metadata": {},
   "outputs": [
    {
     "name": "stdout",
     "output_type": "stream",
     "text": [
      "[1, 2, 3]\n",
      "(3, 1, 2)\n",
      "[1, 2, 3]\n"
     ]
    }
   ],
   "source": [
    "# sort()\n",
    "my_list = [3,1,2]\n",
    "my_list.sort()\n",
    "print(my_list)\n",
    "\n",
    "#sorted()\n",
    "my_tuple = (3,1,2)\n",
    "new_list = sorted(my_tuple)\n",
    "print(my_tuple)\n",
    "print(new_list)"
   ]
  },
  {
   "cell_type": "code",
   "execution_count": 34,
   "id": "2fd37595",
   "metadata": {},
   "outputs": [
    {
     "name": "stdout",
     "output_type": "stream",
     "text": [
      "[5, 6, 9, 7, 8]\n",
      "[5, 6, 7, 8, 9]\n"
     ]
    }
   ],
   "source": [
    "list3 = [5,6,9,7,8]\n",
    "new_list = sorted(list3)\n",
    "print(list3)\n",
    "print(new_list)"
   ]
  },
  {
   "cell_type": "code",
   "execution_count": 35,
   "id": "ef7c5a10",
   "metadata": {},
   "outputs": [
    {
     "name": "stdout",
     "output_type": "stream",
     "text": [
      "None\n",
      "[5, 6, 7, 8, 9]\n"
     ]
    }
   ],
   "source": [
    "list3 = [5,6,9,7,8]\n",
    "a = list3.sort()\n",
    "print(a)\n",
    "print(list3)"
   ]
  },
  {
   "cell_type": "code",
   "execution_count": 36,
   "id": "057c990f",
   "metadata": {},
   "outputs": [
    {
     "data": {
      "text/plain": [
       "[87, 54, 39, 29, 19, 15, 13, 4]"
      ]
     },
     "execution_count": 36,
     "metadata": {},
     "output_type": "execute_result"
    }
   ],
   "source": [
    "list1 = [58, 45, 69, 19, 4, 87, 29, 13, 39, 15, 54, [8, 33, 11], 27, 49, 63, 98, 22, 82]\n",
    "list2 = list1[3:11]\n",
    "l_sort = sorted(list2, reverse=True)\n",
    "l_sort"
   ]
  },
  {
   "cell_type": "code",
   "execution_count": 37,
   "id": "d4e35861",
   "metadata": {},
   "outputs": [
    {
     "name": "stdout",
     "output_type": "stream",
     "text": [
      "[87, 54, 39, 29, 19, 15, 13, 4]\n"
     ]
    }
   ],
   "source": [
    "list3 = list1[3:11]\n",
    "list3.sort(reverse=True)\n",
    "print(list3)"
   ]
  },
  {
   "cell_type": "markdown",
   "id": "6ecd13a7",
   "metadata": {},
   "source": [
    "[과제4] 아래 list를  sort, sorted를 이용해서 올림차순, 내림차순으로 각각 출력하세요."
   ]
  },
  {
   "cell_type": "code",
   "execution_count": 38,
   "id": "8b6b2ab9",
   "metadata": {},
   "outputs": [],
   "source": [
    "list1 = [5, 8, 11, 14, 17, 20, 23, 26, 29, 32, 35, 38, 41, 44, 47, 3, 5, 7, 9, 11, 13, 15, 17]"
   ]
  },
  {
   "cell_type": "code",
   "execution_count": 39,
   "id": "2aea2a91",
   "metadata": {},
   "outputs": [
    {
     "name": "stdout",
     "output_type": "stream",
     "text": [
      "[47, 44, 41, 38, 35, 32, 29, 26, 23, 20, 17, 17, 15, 14, 13, 11, 11, 9, 8, 7, 5, 5, 3]\n",
      "[3, 5, 5, 7, 8, 9, 11, 11, 13, 14, 15, 17, 17, 20, 23, 26, 29, 32, 35, 38, 41, 44, 47]\n"
     ]
    }
   ],
   "source": [
    "print(sorted(list1, reverse=True))\n",
    "print(sorted(list1, reverse=False))"
   ]
  },
  {
   "cell_type": "code",
   "execution_count": 40,
   "id": "59db8793",
   "metadata": {},
   "outputs": [
    {
     "name": "stdout",
     "output_type": "stream",
     "text": [
      "<class 'list'>\n",
      "<class 'list'>\n"
     ]
    }
   ],
   "source": [
    "list1.sort(reverse=True)\n",
    "print(list)\n",
    "list1.sort(reverse=False)\n",
    "print(list)"
   ]
  },
  {
   "cell_type": "markdown",
   "id": "6d56785a",
   "metadata": {},
   "source": [
    "원래의 값을 바꾸면 안된다 = sorted()\n",
    "원래의 값을 바꾼다 = sort()\n"
   ]
  },
  {
   "cell_type": "code",
   "execution_count": 41,
   "id": "c98f2d18",
   "metadata": {},
   "outputs": [],
   "source": [
    "# 자료형 - Tuple\n",
    "# 튜플의 요소 값은 변경할 수 없음 - 프로그램에서 그 값이 항상 변하지 않아야 되는 경우 사용"
   ]
  },
  {
   "cell_type": "code",
   "execution_count": 42,
   "id": "ebd74553",
   "metadata": {},
   "outputs": [
    {
     "data": {
      "text/plain": [
       "3"
      ]
     },
     "execution_count": 42,
     "metadata": {},
     "output_type": "execute_result"
    }
   ],
   "source": [
    "tuple1 = (1,2,3,4,5)\n",
    "tuple2 = ('a', 'b', 'c')\n",
    "tuple3 = (1, 'a', 'abc', [1,2,3,4,5],['a','b','c'])\n",
    "\n",
    "tuple1[:]\n",
    "tuple2[2]\n",
    "tuple3[3][2]"
   ]
  },
  {
   "cell_type": "code",
   "execution_count": 43,
   "id": "ab6bb384",
   "metadata": {},
   "outputs": [
    {
     "data": {
      "text/plain": [
       "[0, 2, 3, 4, 5]"
      ]
     },
     "execution_count": 43,
     "metadata": {},
     "output_type": "execute_result"
    }
   ],
   "source": [
    "list1 = [1,2,3,4,5]\n",
    "list1[0] = 0\n",
    "list1"
   ]
  },
  {
   "cell_type": "code",
   "execution_count": 44,
   "id": "a63ebf35",
   "metadata": {},
   "outputs": [
    {
     "ename": "TypeError",
     "evalue": "'tuple' object does not support item assignment",
     "output_type": "error",
     "traceback": [
      "\u001b[1;31m---------------------------------------------------------------------------\u001b[0m",
      "\u001b[1;31mTypeError\u001b[0m                                 Traceback (most recent call last)",
      "Cell \u001b[1;32mIn[44], line 3\u001b[0m\n\u001b[0;32m      1\u001b[0m \u001b[38;5;66;03m# 튜플의 요소값은 변경할수 없다.\u001b[39;00m\n\u001b[0;32m      2\u001b[0m tuple1 \u001b[38;5;241m=\u001b[39m (\u001b[38;5;241m1\u001b[39m,\u001b[38;5;241m2\u001b[39m,\u001b[38;5;241m3\u001b[39m,\u001b[38;5;241m4\u001b[39m,\u001b[38;5;241m5\u001b[39m)\n\u001b[1;32m----> 3\u001b[0m tuple1[\u001b[38;5;241m0\u001b[39m] \u001b[38;5;241m=\u001b[39m \u001b[38;5;241m0\u001b[39m\n\u001b[0;32m      4\u001b[0m tuple1\n",
      "\u001b[1;31mTypeError\u001b[0m: 'tuple' object does not support item assignment"
     ]
    }
   ],
   "source": [
    "# 튜플의 요소값은 변경할수 없다.\n",
    "tuple1 = (1,2,3,4,5)\n",
    "tuple1[0] = 0\n",
    "tuple1"
   ]
  },
  {
   "cell_type": "code",
   "execution_count": 45,
   "id": "c74373d5",
   "metadata": {},
   "outputs": [
    {
     "name": "stdout",
     "output_type": "stream",
     "text": [
      "(1,)\n"
     ]
    }
   ],
   "source": [
    "t1 = (1,)\n",
    "print(t1)"
   ]
  },
  {
   "cell_type": "code",
   "execution_count": 46,
   "id": "959e368b",
   "metadata": {},
   "outputs": [
    {
     "name": "stdout",
     "output_type": "stream",
     "text": [
      "1\n"
     ]
    },
    {
     "data": {
      "text/plain": [
       "int"
      ]
     },
     "execution_count": 46,
     "metadata": {},
     "output_type": "execute_result"
    }
   ],
   "source": [
    "t1 = (1)\n",
    "print(t1)\n",
    "type(t1)"
   ]
  },
  {
   "cell_type": "code",
   "execution_count": 47,
   "id": "f4c0c440",
   "metadata": {},
   "outputs": [
    {
     "name": "stdout",
     "output_type": "stream",
     "text": [
      "(1, 2, 3)\n"
     ]
    }
   ],
   "source": [
    "t2 = 1,2,3\n",
    "print(t2)"
   ]
  },
  {
   "cell_type": "code",
   "execution_count": 48,
   "id": "756c8eb2",
   "metadata": {},
   "outputs": [
    {
     "ename": "TypeError",
     "evalue": "unsupported operand type(s) for +: 'int' and 'tuple'",
     "output_type": "error",
     "traceback": [
      "\u001b[1;31m---------------------------------------------------------------------------\u001b[0m",
      "\u001b[1;31mTypeError\u001b[0m                                 Traceback (most recent call last)",
      "Cell \u001b[1;32mIn[48], line 2\u001b[0m\n\u001b[0;32m      1\u001b[0m t2 \u001b[38;5;241m*\u001b[39m \u001b[38;5;241m3\u001b[39m\n\u001b[1;32m----> 2\u001b[0m \u001b[43mt1\u001b[49m\u001b[43m \u001b[49m\u001b[38;5;241;43m+\u001b[39;49m\u001b[43m \u001b[49m\u001b[43mt2\u001b[49m\n",
      "\u001b[1;31mTypeError\u001b[0m: unsupported operand type(s) for +: 'int' and 'tuple'"
     ]
    }
   ],
   "source": [
    "t2 * 3\n",
    "t1 + t2"
   ]
  },
  {
   "cell_type": "code",
   "execution_count": 49,
   "id": "20c63a64",
   "metadata": {},
   "outputs": [
    {
     "data": {
      "text/plain": [
       "{None: 1, 87: 2}"
      ]
     },
     "execution_count": 49,
     "metadata": {},
     "output_type": "execute_result"
    }
   ],
   "source": [
    "# 자료형 - 사전(키와 값을 하나의 요소로 하는 순서가 없는 집합)\n",
    "{a:1, b:2}"
   ]
  },
  {
   "cell_type": "code",
   "execution_count": 50,
   "id": "d63019ae",
   "metadata": {},
   "outputs": [
    {
     "name": "stdout",
     "output_type": "stream",
     "text": [
      "1\n"
     ]
    }
   ],
   "source": [
    "d1 = {'a':1, 'b':2, 'c':3}\n",
    "print(d1['a'])"
   ]
  },
  {
   "cell_type": "code",
   "execution_count": 51,
   "id": "0b01e1a4",
   "metadata": {},
   "outputs": [
    {
     "data": {
      "text/plain": [
       "dict_keys(['a', 'b', 'c'])"
      ]
     },
     "execution_count": 51,
     "metadata": {},
     "output_type": "execute_result"
    }
   ],
   "source": [
    "d1.keys()"
   ]
  },
  {
   "cell_type": "code",
   "execution_count": 52,
   "id": "5a09990a",
   "metadata": {},
   "outputs": [
    {
     "data": {
      "text/plain": [
       "dict_values([1, 2, 3])"
      ]
     },
     "execution_count": 52,
     "metadata": {},
     "output_type": "execute_result"
    }
   ],
   "source": [
    "d1.values()"
   ]
  },
  {
   "cell_type": "code",
   "execution_count": 53,
   "id": "1f6c6972",
   "metadata": {},
   "outputs": [
    {
     "data": {
      "text/plain": [
       "dict_items([('a', 1), ('b', 2), ('c', 3)])"
      ]
     },
     "execution_count": 53,
     "metadata": {},
     "output_type": "execute_result"
    }
   ],
   "source": [
    "d1.items()"
   ]
  },
  {
   "cell_type": "code",
   "execution_count": 54,
   "id": "9d336aa8",
   "metadata": {},
   "outputs": [
    {
     "data": {
      "text/plain": [
       "{'a': 1, 'b': 2, 'c': 3, 'd': 4}"
      ]
     },
     "execution_count": 54,
     "metadata": {},
     "output_type": "execute_result"
    }
   ],
   "source": [
    "d1['d'] = 4\n",
    "d1"
   ]
  },
  {
   "cell_type": "code",
   "execution_count": 55,
   "id": "8b3d1283",
   "metadata": {},
   "outputs": [
    {
     "data": {
      "text/plain": [
       "{'a': 1, 'b': 7, 'c': 3, 'd': 4}"
      ]
     },
     "execution_count": 55,
     "metadata": {},
     "output_type": "execute_result"
    }
   ],
   "source": [
    "d1['b'] = 7\n",
    "d1"
   ]
  },
  {
   "cell_type": "code",
   "execution_count": 56,
   "id": "7fc2af4c",
   "metadata": {},
   "outputs": [],
   "source": [
    "# 자료형 - 집합, set(중복을 허용하지 않으며 순서가 없다.)"
   ]
  },
  {
   "cell_type": "code",
   "execution_count": 57,
   "id": "cf11ac63",
   "metadata": {},
   "outputs": [
    {
     "name": "stdout",
     "output_type": "stream",
     "text": [
      "{1, 2, 3, 4, 5}\n",
      "{'H', 'e', 'o', 'l'}\n"
     ]
    }
   ],
   "source": [
    "s1 = set([1,2,5,4,3])\n",
    "s2 = set('Hello')\n",
    "\n",
    "print(s1)\n",
    "print(s2)"
   ]
  },
  {
   "cell_type": "markdown",
   "id": "fcdcc964",
   "metadata": {},
   "source": [
    "리스트나 튜플로 바꿔준다."
   ]
  },
  {
   "cell_type": "code",
   "execution_count": 58,
   "id": "8b552d50",
   "metadata": {},
   "outputs": [
    {
     "name": "stdout",
     "output_type": "stream",
     "text": [
      "[1, 2, 3, 4, 5]\n"
     ]
    }
   ],
   "source": [
    "li = list(s1)\n",
    "print(li)"
   ]
  },
  {
   "cell_type": "code",
   "execution_count": 61,
   "id": "9ec35f05",
   "metadata": {},
   "outputs": [
    {
     "name": "stdout",
     "output_type": "stream",
     "text": [
      "l\n"
     ]
    }
   ],
   "source": [
    "li = list(s2)\n",
    "print(li[3])"
   ]
  },
  {
   "cell_type": "code",
   "execution_count": 66,
   "id": "86df9e3e",
   "metadata": {},
   "outputs": [
    {
     "name": "stdout",
     "output_type": "stream",
     "text": [
      "[1, 2, 3, 4, 5, 6, 7, 8, 9]\n",
      "[4, 5, 6]\n"
     ]
    }
   ],
   "source": [
    "# s1, s2의 합집합과 교집합을 각각 리스트로 출력하세요\n",
    "s1 = set([1,2,3,5,4,6])\n",
    "s2 = set([4,5,6,7,8,9])\n",
    "\n",
    "print(list(s1|s2)) # 합집합\n",
    "print(list(s1&s2)) # 교집합"
   ]
  },
  {
   "cell_type": "markdown",
   "id": "4670ceff",
   "metadata": {},
   "source": [
    "#### True와 False\n",
    "- 파이썬에서 참과 거짓을 나타내는 상수. True는 1, False는 0의 값을 가짐\n",
    "- 조건을 판단해서 그 조건이 참이면 True, 거짓이면 False를 return"
   ]
  },
  {
   "cell_type": "code",
   "execution_count": 65,
   "id": "b1e24bfb",
   "metadata": {},
   "outputs": [
    {
     "name": "stdout",
     "output_type": "stream",
     "text": [
      "False\n",
      "False\n",
      "False\n",
      "True\n",
      "True\n"
     ]
    }
   ],
   "source": [
    "# 자료형 - 논리(Bool)\n",
    "print(bool(0))\n",
    "print(bool(''))\n",
    "print(bool([]))\n",
    "print(bool(1))\n",
    "print(bool(100))"
   ]
  },
  {
   "cell_type": "code",
   "execution_count": 75,
   "id": "4051438a",
   "metadata": {},
   "outputs": [
    {
     "name": "stdout",
     "output_type": "stream",
     "text": [
      "False\n",
      "True\n",
      "False\n",
      "True\n",
      "True\n"
     ]
    }
   ],
   "source": [
    "x = 1; y = 2\n",
    "str1 = 'abc'; str2 = 'python'\n",
    "print(x==y)\n",
    "print(x != y)\n",
    "print(str1 == str2)\n",
    "print(str2 == 'python')\n",
    "print(str1 < str2)"
   ]
  },
  {
   "cell_type": "code",
   "execution_count": 79,
   "id": "d50ba726",
   "metadata": {},
   "outputs": [
    {
     "name": "stdout",
     "output_type": "stream",
     "text": [
      "False\n",
      "True\n",
      "False\n",
      "True\n"
     ]
    }
   ],
   "source": [
    "# 논리 연산자\n",
    "bool1 = True; bool2 = False; bool3 = True; bool4 = False\n",
    "print(bool1 and bool2)\n",
    "print(bool1 or bool2)\n",
    "print(not bool3)\n",
    "print(not bool4)"
   ]
  },
  {
   "cell_type": "markdown",
   "id": "707840a5",
   "metadata": {},
   "source": [
    "#### 파이썬에서 들여쓰기\n",
    "- 파이썬에는 실행 코드 부분을 묶어주는 {} 괄호가 없다.\n",
    "- 대신 들여쓰기(indentation)로 {}를 대신한다.\n",
    "- 제어문이나 함수이름, 클래스 이름 뒤에 콜론(':')으로 제어문, 함수이름, 클래스 이름의 끝을 표시하며 ':' 다음에 실행 코드를 작성"
   ]
  },
  {
   "cell_type": "code",
   "execution_count": 107,
   "id": "5112d109",
   "metadata": {},
   "outputs": [
    {
     "name": "stdout",
     "output_type": "stream",
     "text": [
      "있네용\n"
     ]
    }
   ],
   "source": [
    "li = ['a', 'b', 'c']\n",
    "if 'a' in li:\n",
    "    print('있네용')\n",
    "else:\n",
    "    print('없네용')"
   ]
  },
  {
   "cell_type": "code",
   "execution_count": 108,
   "id": "2bf48030",
   "metadata": {},
   "outputs": [
    {
     "data": {
      "text/plain": [
       "6"
      ]
     },
     "execution_count": 108,
     "metadata": {},
     "output_type": "execute_result"
    }
   ],
   "source": [
    "# 사용자 함수\n",
    "def add(a, b):\n",
    "    return a + b + 3\n",
    "add(1, 2)"
   ]
  },
  {
   "cell_type": "code",
   "execution_count": 110,
   "id": "fe37866b",
   "metadata": {},
   "outputs": [
    {
     "data": {
      "text/plain": [
       "6"
      ]
     },
     "execution_count": 110,
     "metadata": {},
     "output_type": "execute_result"
    }
   ],
   "source": [
    "num = [1,2,3]\n",
    "sum(num)"
   ]
  },
  {
   "cell_type": "code",
   "execution_count": 115,
   "id": "9994b95a",
   "metadata": {},
   "outputs": [
    {
     "name": "stdout",
     "output_type": "stream",
     "text": [
      "2\n",
      "5\n"
     ]
    }
   ],
   "source": [
    "class SumMul:\n",
    "    def sum(self, n1, n2):\n",
    "        return n1 + n2\n",
    "    def mul(self, n1, n2):\n",
    "        return n1 * n2\n",
    "    \n",
    "obj1 = SumMul()\n",
    "print(obj1.sum(1, 1))\n",
    "print(obj1.mul(1, 5))"
   ]
  },
  {
   "cell_type": "code",
   "execution_count": 116,
   "id": "650c01de",
   "metadata": {},
   "outputs": [
    {
     "data": {
      "text/plain": [
       "['나는', '오늘', '기분이', '좋아요']"
      ]
     },
     "execution_count": 116,
     "metadata": {},
     "output_type": "execute_result"
    }
   ],
   "source": [
    "# split() 함수\n",
    "text = '나는 오늘 기분이 좋아요'\n",
    "words = text.split()\n",
    "words"
   ]
  },
  {
   "cell_type": "code",
   "execution_count": 118,
   "id": "9b767a06",
   "metadata": {},
   "outputs": [
    {
     "data": {
      "text/plain": [
       "20"
      ]
     },
     "execution_count": 118,
     "metadata": {},
     "output_type": "execute_result"
    }
   ],
   "source": [
    "num = 10\n",
    "num += 10 # num = num + 10\n",
    "num"
   ]
  },
  {
   "cell_type": "markdown",
   "id": "451860c9",
   "metadata": {},
   "source": [
    "[과제5] 복합 대입연산자를 이용해서 4칙연산을 수행하세요"
   ]
  },
  {
   "cell_type": "code",
   "execution_count": 127,
   "id": "74cac715",
   "metadata": {},
   "outputs": [
    {
     "name": "stdout",
     "output_type": "stream",
     "text": [
      "15\n",
      "5\n",
      "2.0\n",
      "50\n",
      "100000\n",
      "0\n",
      "2\n"
     ]
    }
   ],
   "source": [
    "num = 10\n",
    "num += 5\n",
    "print(num)\n",
    "num = 10\n",
    "num -= 5\n",
    "print(num)\n",
    "num = 10\n",
    "num /= 5\n",
    "print(num)\n",
    "num = 10\n",
    "num *= 5\n",
    "print(num)\n",
    "num = 10\n",
    "num **= 5\n",
    "print(num)\n",
    "num = 10\n",
    "num %= 5\n",
    "print(num)\n",
    "num = 10\n",
    "num //= 5\n",
    "print(num)"
   ]
  },
  {
   "cell_type": "code",
   "execution_count": 128,
   "id": "dcf4a44e",
   "metadata": {},
   "outputs": [
    {
     "data": {
      "text/plain": [
       "'abc'"
      ]
     },
     "execution_count": 128,
     "metadata": {},
     "output_type": "execute_result"
    }
   ],
   "source": [
    "# 소문자, 대문자 변환\n",
    "word = 'ABC'\n",
    "w1 = word.lower()\n",
    "w1"
   ]
  },
  {
   "cell_type": "code",
   "execution_count": 129,
   "id": "5a968794",
   "metadata": {},
   "outputs": [
    {
     "data": {
      "text/plain": [
       "'ABC'"
      ]
     },
     "execution_count": 129,
     "metadata": {},
     "output_type": "execute_result"
    }
   ],
   "source": [
    "w2 = w1.upper()\n",
    "w2"
   ]
  },
  {
   "cell_type": "markdown",
   "id": "9b1c1bde",
   "metadata": {},
   "source": [
    "#### [과제6] 다음 과제를 수행하세요.\n",
    "- 사용자로 부터 텍스트를 입력 받는다.\n",
    "- 문장을 단어 단위로 분리\n",
    "- 단어의 빈도수를 저장할 딕셔너리를 생성\n",
    "- 각 단어의 빈도 수를 계산(for ans / if else 문 )\n",
    "- 결과 출력"
   ]
  },
  {
   "cell_type": "code",
   "execution_count": 135,
   "id": "c752962d",
   "metadata": {},
   "outputs": [
    {
     "name": "stdout",
     "output_type": "stream",
     "text": [
      "나는 밥을 먹었다 나는 학교에 간다\n",
      "{'나는': 2}\n"
     ]
    }
   ],
   "source": [
    "words_list = input() # [나는 밥을 먹었다 나는 학교에 간다]\n",
    "words_list = words_list.split()\n",
    "word_frequency = {'나는':0}\n",
    "for word in words_list:\n",
    "    if word in word_frequency:\n",
    "        word_frequency[word] += 1\n",
    "print(word_frequency)\n",
    "\n"
   ]
  },
  {
   "cell_type": "code",
   "execution_count": 2,
   "id": "4600ac19",
   "metadata": {},
   "outputs": [
    {
     "name": "stdout",
     "output_type": "stream",
     "text": [
      "등 국어의 핵심은 생각하는 힘이다 요즘 아이들이 독해력이 떨어지는 이유는 생각하는 힘이 약해서이다\n",
      "{'아이들이': 1, '힘이': 1, '국어의': 1, '떨어지는': 1, '생각하는': 2, '이유는': 1, '약해서이다': 1, '힘이다': 1, '핵심은': 1, '독해력이': 1, '등': 1, '요즘': 1}\n"
     ]
    }
   ],
   "source": [
    "# 활용해서 입력하는 단어마다 dictinary에 입력되어 갯수를 샐수 있게끔 만들어 봤습니다.\n",
    "# 순위\n",
    "\n",
    "words_list = input()\n",
    "words_list = words_list.split()\n",
    "words_set = set(words_list)\n",
    "words_listed_set = list(words_set)\n",
    "word_frequency = {word : 0 for word in words_listed_set}\n",
    "for word in words_list:\n",
    "    if word in word_frequency:\n",
    "        word_frequency[word] += 1\n",
    "print(word_frequency)"
   ]
  },
  {
   "cell_type": "markdown",
   "id": "befbe6e9",
   "metadata": {},
   "source": [
    "- 키보드로 입력하기 어려운 기호 등을 나타낸다.\n",
    "- \\로 시작, \\n 줄바꾸기, \\t 탭,"
   ]
  },
  {
   "cell_type": "code",
   "execution_count": 3,
   "id": "ee6717bf",
   "metadata": {},
   "outputs": [
    {
     "name": "stdout",
     "output_type": "stream",
     "text": [
      "ㅁ\n",
      "{'ㅁ': 1}\n"
     ]
    }
   ],
   "source": [
    "# 순위\n",
    "words_list = input()\n",
    "words_list = words_list.split()\n",
    "words_set = set(words_list)\n",
    "words_listed_set = list(words_set)\n",
    "word_frequency = {word : 0 for word in words_listed_set}\n",
    "for word in words_list:\n",
    "    if word in word_frequency:\n",
    "        word_frequency[word] += 1\n",
    "\n",
    "print(word_frequency)"
   ]
  },
  {
   "cell_type": "markdown",
   "id": "7c3ca2cf",
   "metadata": {},
   "source": [
    "#### 문자열 포멧\n",
    "- % operator 사용 : % 연산자를 사용하려면 %(VAR_NAME)TYPE 형식으로 적어주며 VAR_NAME 은 바인딩할 변수명을 TYPE 은 변수의 유형을 적어준다.\n",
    "- str.format : str.format() 은 파이썬 표현식 값을 바인딩할 부분을 중괄호 {} 로 표시하고 .format() 뒤에 바인딩할 값을 기술해 준다.\n",
    "- f-string : 문자열에 f 나 F 접두사를 붙이고 표현식을 {expr} 형식으로 작성하면 출력 문자열이 파이썬 표현식의 값으로 바뀐다."
   ]
  },
  {
   "cell_type": "code",
   "execution_count": 5,
   "id": "69c53cd5",
   "metadata": {},
   "outputs": [
    {
     "name": "stdout",
     "output_type": "stream",
     "text": [
      "3, 3.000000, hello \n"
     ]
    }
   ],
   "source": [
    "print('%(num)d, %(float)f, %(string)s ' % {'num': 3, 'float': 3, 'string': 'hello'})"
   ]
  },
  {
   "cell_type": "code",
   "execution_count": 8,
   "id": "6fbc4869",
   "metadata": {},
   "outputs": [
    {
     "name": "stdout",
     "output_type": "stream",
     "text": [
      "나는 자바보다 파이썬에 더 익숙합니다.\n",
      "자바은 파이썬 보다 5배 더 쉽습니다.\n",
      "5 + 5 = 10\n",
      "작년 세계 경제 성장률은 전년에 비해 5% 포인트 증가했다\n"
     ]
    }
   ],
   "source": [
    "txt1 = '자바' ; txt2='파이썬'\n",
    "num1= 5; num2= 10\n",
    "print('나는 %s보다 %s에 더 익숙합니다.' % (txt1, txt2))\n",
    "print('%s은 %s 보다 %d배 더 쉽습니다.' % (txt1, txt2, num1))\n",
    "print('%d + %d = %d' % (num1, num1, num2))\n",
    "print('작년 세계 경제 성장률은 전년에 비해 %d%% 포인트 증가했다' %num1)"
   ]
  },
  {
   "cell_type": "code",
   "execution_count": 10,
   "id": "cc0217b6",
   "metadata": {},
   "outputs": [
    {
     "name": "stdout",
     "output_type": "stream",
     "text": [
      "We are the knights who say \"Ni!\"\n"
     ]
    }
   ],
   "source": [
    "# str.format\n",
    "print('We are the {} who say \"{}!\"'.format('knights', 'Ni'))"
   ]
  },
  {
   "cell_type": "code",
   "execution_count": 11,
   "id": "cad2b5a4",
   "metadata": {},
   "outputs": [
    {
     "data": {
      "text/plain": [
       "'나의 이름은홍길순입니다. 나이는 20입니다.'"
      ]
     },
     "execution_count": 11,
     "metadata": {},
     "output_type": "execute_result"
    }
   ],
   "source": [
    "# f-string\n",
    "name = '홍길순'\n",
    "age = 20\n",
    "f'나의 이름은 {name}입니다. 나이는 {age}입니다.'"
   ]
  },
  {
   "cell_type": "code",
   "execution_count": 18,
   "id": "7d05d0ee",
   "metadata": {},
   "outputs": [
    {
     "name": "stdout",
     "output_type": "stream",
     "text": [
      "Tom    ==>       1234\n",
      "Jack   ==>       4518\n",
      "Eddie  ==>       9638\n"
     ]
    }
   ],
   "source": [
    "table = {'Tom': 1234, 'Jack': 4518, 'Eddie': 9638}\n",
    "for name, phone in table.items():\n",
    "    print(f'{name:6} ==> {phone:10d}')\n"
   ]
  },
  {
   "cell_type": "code",
   "execution_count": 21,
   "id": "e2f8177d",
   "metadata": {},
   "outputs": [
    {
     "data": {
      "text/plain": [
       "'3.4213'"
      ]
     },
     "execution_count": 21,
     "metadata": {},
     "output_type": "execute_result"
    }
   ],
   "source": [
    "# 소수점 4자리까지만 표현\n",
    "y = 3.42134234\n",
    "f'{y:0.4f}'"
   ]
  },
  {
   "cell_type": "code",
   "execution_count": 37,
   "id": "8fff0076",
   "metadata": {},
   "outputs": [
    {
     "data": {
      "text/plain": [
       "'    3.4213'"
      ]
     },
     "execution_count": 37,
     "metadata": {},
     "output_type": "execute_result"
    }
   ],
   "source": [
    "# 소수점 4자리까지 표현하고 총 자리수를 10으로 맞춤\n",
    "y = 3.42134234\n",
    "f'{y:10.4f}'"
   ]
  },
  {
   "cell_type": "code",
   "execution_count": 38,
   "id": "43d654d7",
   "metadata": {},
   "outputs": [
    {
     "name": "stdout",
     "output_type": "stream",
     "text": [
      "12345 \n",
      "     12345\n",
      "12.345679\n",
      "           12.346\n"
     ]
    }
   ],
   "source": [
    "# [과제1_1030] num1 = 12345을 아래와 같이 출력하세요.\n",
    "# 12345\n",
    "#      12345\n",
    "# 12.345679\n",
    "#           12.346\n",
    "num1 = 12345\n",
    "print(f\"{num1} \\n{num1:10d}\\n{num1/1000+0.000679:0.6f}\\n{num1/1000+0.001:17.3f}\")"
   ]
  },
  {
   "cell_type": "markdown",
   "id": "a7322fa9",
   "metadata": {},
   "source": [
    "#### 2진수, 8진수, 16진수의 데이터 표현 방법\n",
    "\n",
    "- 우리가 프로그래밍을 하면서 변수에 어떤 값을 저장할 때 10진수는 일상적 표현을 그대로 대입한다.\n",
    "- 예를들어 15를 저장하고 싶다면 int a= 15; 와 같이 15라는 숫자를 그대로 대입하면 된다.\n",
    "- 하지만 2진수, 8진수, 16진수는 표현법이 따로 정해져있다.<br><br>  \n",
    "\n",
    "- 2진수는 대입하고자 하는 값 앞에 0b를 붙인다. (숫자0과 영문자b)\n",
    "- 8진수는 대입하고자 하는 값 앞에 0o 을 붙인다. (숫자0 영문자o)\n",
    "- 16진수는 대입하고자 하는 값 앞에 0x 를 붙인다. (숫자0과 영문자x)\n",
    "\n",
    "아래의 예시를 보자.\n",
    "변수 a,b,c,d 는 모두 10진수 122 이라는 값을 저장하는 코드이다.\n",
    "\n",
    "122는\n",
    "- 2진수로 1111010\n",
    "- 8진수로 172\n",
    "- 16진수로 7A 이다."
   ]
  },
  {
   "cell_type": "code",
   "execution_count": 41,
   "id": "be6fd04d",
   "metadata": {},
   "outputs": [
    {
     "name": "stdout",
     "output_type": "stream",
     "text": [
      "122\n",
      "172\n",
      "122\n",
      "122\n"
     ]
    }
   ],
   "source": [
    "a = 0o172 # 8진수 0o로 시작\n",
    "d = 172\n",
    "b = 0x7A # 16진수 0x로 시작\n",
    "c = 0b1111010 # 2진수로 시작\n",
    "print(a)\n",
    "print(d)\n",
    "print(b)\n",
    "print(c)"
   ]
  },
  {
   "cell_type": "code",
   "execution_count": 43,
   "id": "0ab7db90",
   "metadata": {},
   "outputs": [
    {
     "name": "stdout",
     "output_type": "stream",
     "text": [
      "10\n",
      "2\n",
      "8\n",
      "16\n"
     ]
    }
   ],
   "source": [
    "int_data = 10\n",
    "bin_data = 0b10\n",
    "oct_data = 0o10\n",
    "hex_data = 0x10\n",
    "print(int_data)\n",
    "print(bin_data)\n",
    "print(oct_data)\n",
    "print(hex_data)"
   ]
  },
  {
   "cell_type": "code",
   "execution_count": 47,
   "id": "490e8a96",
   "metadata": {},
   "outputs": [
    {
     "name": "stdout",
     "output_type": "stream",
     "text": [
      "123\n",
      "-123\n",
      "0\n",
      "1.23\n",
      "127\n",
      "2748\n",
      "42\n"
     ]
    }
   ],
   "source": [
    "# 파이썬 자료형 - 숫자형(정수, 실수, 8진수, 16진수)\n",
    "a = 123\n",
    "b = -123\n",
    "c = 0\n",
    "d = 1.23\n",
    "e = 0o177 # 8진수 0o로 시작\n",
    "f = 0xABC # 16진수로 0x로 시작\n",
    "g = 0b101010 # 2진수 0b로 시작\n",
    "print(a)\n",
    "print(b)\n",
    "print(c)\n",
    "print(d)\n",
    "print(e)\n",
    "print(f)\n",
    "print(g)"
   ]
  },
  {
   "cell_type": "code",
   "execution_count": 48,
   "id": "d5cbce82",
   "metadata": {},
   "outputs": [
    {
     "name": "stdout",
     "output_type": "stream",
     "text": [
      "15\n"
     ]
    }
   ],
   "source": [
    "print(0xf)"
   ]
  },
  {
   "cell_type": "code",
   "execution_count": 49,
   "id": "422ecb8a",
   "metadata": {},
   "outputs": [
    {
     "name": "stdout",
     "output_type": "stream",
     "text": [
      "32\n",
      "8\n",
      "2\n"
     ]
    }
   ],
   "source": [
    "# 2진수를 10진수로 표현\n",
    "g1 = 0b100000\n",
    "g2 = 0b1000\n",
    "g3 = 0b10\n",
    "print(g1)\n",
    "print(g2)\n",
    "print(g3)"
   ]
  },
  {
   "cell_type": "code",
   "execution_count": 52,
   "id": "8be9afd0",
   "metadata": {},
   "outputs": [
    {
     "name": "stdout",
     "output_type": "stream",
     "text": [
      "10\n",
      "11\n",
      "171\n"
     ]
    }
   ],
   "source": [
    "# 16진수를 10진수로 표현\n",
    "f1 = 0xA\n",
    "f2 = 0xB\n",
    "f3 = 0xAB\n",
    "print(f1)\n",
    "print(f2)\n",
    "print(f3)"
   ]
  },
  {
   "cell_type": "code",
   "execution_count": null,
   "id": "3832c6e2",
   "metadata": {},
   "outputs": [],
   "source": []
  }
 ],
 "metadata": {
  "kernelspec": {
   "display_name": "Python 3 (ipykernel)",
   "language": "python",
   "name": "python3"
  },
  "language_info": {
   "codemirror_mode": {
    "name": "ipython",
    "version": 3
   },
   "file_extension": ".py",
   "mimetype": "text/x-python",
   "name": "python",
   "nbconvert_exporter": "python",
   "pygments_lexer": "ipython3",
   "version": "3.10.13"
  }
 },
 "nbformat": 4,
 "nbformat_minor": 5
}
